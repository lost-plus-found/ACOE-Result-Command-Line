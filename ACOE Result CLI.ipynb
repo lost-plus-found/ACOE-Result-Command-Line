{
 "cells": [
  {
   "cell_type": "markdown",
   "metadata": {},
   "source": [
    "# ACOE Result CLI"
   ]
  },
  {
   "cell_type": "markdown",
   "metadata": {},
   "source": [
    "## Get Input from user\n",
    "\n",
    "Get the Registeration number and Password from the user using the option `-n` for new entry"
   ]
  },
  {
   "cell_type": "code",
   "execution_count": null,
   "metadata": {
    "collapsed": true
   },
   "outputs": [],
   "source": [
    "#!/bin/bash\n",
    "\n",
    "if [ \"$1\" = \"-n\" ]; then\n",
    "    echo \"\"\n",
    "    echo -n \"Register Number: \"\n",
    "    read REGISTER\n",
    "    "
   ]
  },
  {
   "cell_type": "markdown",
   "metadata": {},
   "source": [
    "Read Password in hidden mode using option `-s` with read function"
   ]
  },
  {
   "cell_type": "code",
   "execution_count": null,
   "metadata": {
    "collapsed": true
   },
   "outputs": [],
   "source": [
    "    echo -n \"Password: \"\n",
    "    read -s P\n",
    "    echo"
   ]
  },
  {
   "cell_type": "markdown",
   "metadata": {},
   "source": [
    "## Encrypt the password\n",
    "\n",
    "Encrypt the Password using **SHA512**"
   ]
  },
  {
   "cell_type": "code",
   "execution_count": null,
   "metadata": {
    "collapsed": true
   },
   "outputs": [],
   "source": [
    "    PASSWORD=`echo -n $P | openssl dgst -sha512`\n",
    "    LEN=`expr ${#PASSWORD} - 9`\n",
    "    PASSWORD=${PASSWORD:9:$LEN}"
   ]
  },
  {
   "cell_type": "code",
   "execution_count": null,
   "metadata": {
    "collapsed": true
   },
   "outputs": [],
   "source": [
    "else\n",
    "    REGISTER=\"XXXXXX\"\n",
    "    PASSWORD=\"YYYYYY\"\n",
    "fi"
   ]
  },
  {
   "cell_type": "code",
   "execution_count": null,
   "metadata": {
    "collapsed": true
   },
   "outputs": [],
   "source": [
    "if [ \"$REGISTER\" = \"XXXXXX\" ]; then\n",
    "    echo \"Hey, Please install properly to stop seeing this message! Execute the following Command\"\n",
    "    echo \"cd ~/ACOE-Result-Command-Line && sudo make install\"\n",
    "    echo\n",
    "    echo \"To check the result manually, execute the following command\"\n",
    "    echo \"auresult -n\"\n",
    "fi"
   ]
  },
  {
   "cell_type": "markdown",
   "metadata": {},
   "source": [
    "## Create a Cookie for ACOE site\n",
    "\n",
    "Pass the Registration number and Password as arguments for `curl` function and create `.c0.txt` cookie file"
   ]
  },
  {
   "cell_type": "code",
   "execution_count": null,
   "metadata": {
    "collapsed": true
   },
   "outputs": [],
   "source": [
    "echo \"Please be patient...\"\n",
    "\n",
    "if curl --connect-timeout 10 -c .c0.txt -s --data \"user=$REGISTER&password=&p=$PASSWORD\" https://acoe.annauniv.edu/student/process_login.php; then\n",
    "    "
   ]
  },
  {
   "cell_type": "markdown",
   "metadata": {},
   "source": [
    "## Scrap the Result\n",
    "\n",
    "Scrap the page https://acoe.annauniv.edu/student/result.php by passing the cookie to curl function and save it in **.temp**"
   ]
  },
  {
   "cell_type": "code",
   "execution_count": null,
   "metadata": {
    "collapsed": true
   },
   "outputs": [],
   "source": [
    "    curl -s -b .c0.txt https://acoe.annauniv.edu/student/result.php > .temp\n",
    "    echo "
   ]
  },
  {
   "cell_type": "markdown",
   "metadata": {},
   "source": [
    "## Create a Python Script\n",
    "\n",
    "Create a Python Script for displaying the Results"
   ]
  },
  {
   "cell_type": "code",
   "execution_count": null,
   "metadata": {
    "collapsed": true
   },
   "outputs": [],
   "source": [
    "    echo '\n",
    "# import dependencies\n",
    "from bs4 import BeautifulSoup\n",
    "from prettytable import PrettyTable"
   ]
  },
  {
   "cell_type": "markdown",
   "metadata": {},
   "source": [
    "Read **./.temp** and parse it using `BeautifulSoup`"
   ]
  },
  {
   "cell_type": "code",
   "execution_count": null,
   "metadata": {
    "collapsed": true
   },
   "outputs": [],
   "source": [
    "page = open(\"./.temp\", \"r\").read()\n",
    "soup = BeautifulSoup(page, \"html.parser\")"
   ]
  },
  {
   "cell_type": "markdown",
   "metadata": {},
   "source": [
    "Filter all `table` tags and store it in `results`"
   ]
  },
  {
   "cell_type": "code",
   "execution_count": null,
   "metadata": {
    "collapsed": true
   },
   "outputs": [],
   "source": [
    "results = soup.findAll(\"table\")"
   ]
  },
  {
   "cell_type": "markdown",
   "metadata": {},
   "source": [
    "Give **Headings** for the table to be displayed"
   ]
  },
  {
   "cell_type": "code",
   "execution_count": null,
   "metadata": {
    "collapsed": true
   },
   "outputs": [],
   "source": [
    "res = [\"REGULAR\", \"ARREAR\", \"REVALUATION\"]"
   ]
  },
  {
   "cell_type": "markdown",
   "metadata": {},
   "source": [
    "Display Regular, Arrear and Revaluation Results separately"
   ]
  },
  {
   "cell_type": "code",
   "execution_count": null,
   "metadata": {
    "collapsed": true
   },
   "outputs": [],
   "source": [
    "i = 0\n",
    "for result in results:\n",
    "        if result.findParent(\"table\") is None:\n",
    "                print \"\\t\\t\\t\\t%s\" % res[i]     "
   ]
  },
  {
   "cell_type": "markdown",
   "metadata": {},
   "source": [
    "## Create a PrettyTable\n",
    "\n",
    "Create a `PrettyTable` with columns of Subject Code, Subject Name and Grade"
   ]
  },
  {
   "cell_type": "code",
   "execution_count": null,
   "metadata": {
    "collapsed": true
   },
   "outputs": [],
   "source": [
    "                t = PrettyTable([\"Subject Code\", \"Subject Name\", \"Grade\"])\n",
    "                "
   ]
  },
  {
   "cell_type": "markdown",
   "metadata": {},
   "source": [
    "Parse every table row by filtering `tr`"
   ]
  },
  {
   "cell_type": "code",
   "execution_count": null,
   "metadata": {
    "collapsed": true
   },
   "outputs": [],
   "source": [
    "                for tr in result.find_all(\"tr\")[1:]:\n",
    "                        "
   ]
  },
  {
   "cell_type": "markdown",
   "metadata": {},
   "source": [
    "Parse every table data field by filtering `td` and add a row to the `PrettyTable`"
   ]
  },
  {
   "cell_type": "code",
   "execution_count": null,
   "metadata": {
    "collapsed": true
   },
   "outputs": [],
   "source": [
    "                        tds = tr.find_all(\"td\")\n",
    "                        t.add_row([tds[0].text, tds[1].text, tds[2].text])"
   ]
  },
  {
   "cell_type": "markdown",
   "metadata": {},
   "source": [
    "## Print the PrettyTable"
   ]
  },
  {
   "cell_type": "code",
   "execution_count": null,
   "metadata": {
    "collapsed": true
   },
   "outputs": [],
   "source": [
    "                print t\n",
    "                print \"\\n\"\n",
    "                i+=1\n",
    "' > .display.py"
   ]
  },
  {
   "cell_type": "markdown",
   "metadata": {},
   "source": [
    "## Run the Python Script\n",
    "\n",
    "Run the Python Script `.display.py`"
   ]
  },
  {
   "cell_type": "code",
   "execution_count": null,
   "metadata": {
    "collapsed": true
   },
   "outputs": [],
   "source": [
    "    python .display.py\n",
    "    "
   ]
  },
  {
   "cell_type": "code",
   "execution_count": null,
   "metadata": {
    "collapsed": true
   },
   "outputs": [],
   "source": [
    "Remove unnecessary files like `.display.py`,`.c0.txt` and `.temp`"
   ]
  },
  {
   "cell_type": "code",
   "execution_count": null,
   "metadata": {
    "collapsed": true
   },
   "outputs": [],
   "source": [
    "    rm .display.py .c0.txt .temp\n",
    "else\n",
    "    echo\n",
    "    echo \"ACOE server is down! Try after sometime\"\n",
    "fi"
   ]
  },
  {
   "cell_type": "markdown",
   "metadata": {},
   "source": [
    "Thus we have built a working code for displaying **ACOE results**. Check our [GitHub Page](https://github.com/lost-plus-found/ACOE-Result-Command-Line) for code. We have a few other projects in our [Organization](https://github.com/lost-plus-found)"
   ]
  }
 ],
 "metadata": {
  "kernelspec": {
   "display_name": "Bash",
   "language": "bash",
   "name": "bash"
  },
  "language_info": {
   "codemirror_mode": "shell",
   "file_extension": ".sh",
   "mimetype": "text/x-sh",
   "name": "bash"
  }
 },
 "nbformat": 4,
 "nbformat_minor": 0
}
